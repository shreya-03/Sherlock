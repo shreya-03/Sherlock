{
 "cells": [
  {
   "cell_type": "code",
   "execution_count": 14,
   "metadata": {
    "collapsed": false
   },
   "outputs": [],
   "source": [
    "import sys,math\n",
    "from textblob import TextBlob as tb\n",
    "import numpy as np\n",
    "import pandas as pd\n",
    "from string import punctuation\n",
    "from nltk.corpus import stopwords\n",
    "from nltk import word_tokenize\n",
    "from collections import Counter"
   ]
  },
  {
   "cell_type": "code",
   "execution_count": 15,
   "metadata": {
    "collapsed": true
   },
   "outputs": [],
   "source": [
    "def cluster_user_msgs(filename):\n",
    "    user_msgs = {}\n",
    "    with open(filename,'r') as f:\n",
    "        lines = f.readlines()\n",
    "        for line in lines:\n",
    "            user = str(line.split(',\"u\":')[1].split(',\"e\":')[0].replace('\"',''))\n",
    "            if user not in user_msgs.keys():\n",
    "                user_msgs[user] = ''\n",
    "                user_msgs[user] += ''.join(str(line.split(',\"m\":')[1].split(',\"nm\":')[0].replace('\"','')))\n",
    "            else:\n",
    "                user_msgs[user] += ''.join(str(line.split(',\"m\":')[1].split(',\"nm\":')[0].replace('\"','')))\n",
    "    f.close()\n",
    "    return user_msgs"
   ]
  },
  {
   "cell_type": "code",
   "execution_count": null,
   "metadata": {
    "collapsed": true
   },
   "outputs": [],
   "source": [
    "def join_user_msgs(user_msgs):\n",
    "    "
   ]
  },
  {
   "cell_type": "code",
   "execution_count": 16,
   "metadata": {
    "collapsed": false
   },
   "outputs": [],
   "source": [
    "user_msgs = cluster_user_msgs('../Data/lolielie/#lolieliedatabase_new_full.txt')"
   ]
  },
  {
   "cell_type": "code",
   "execution_count": 17,
   "metadata": {
    "collapsed": false
   },
   "outputs": [
    {
     "name": "stdout",
     "output_type": "stream",
     "text": [
      "[('stream', 1), ('emote', 1), ('are', 1), ('LUL', 1), ('your', 1), ('!', 1), ('from', 1), ('to', 1), ('send', 1), ('Mario', 1), ('@LoliElie', 1), ('Hi', 1), ('you', 1), ('LoveFooty@Skurdy', 1), ('watchin', 1), ('we', 1), ('that', 1), ('worker', 1), ('a', 1), ('both', 1), ('Co', 1), ('work', 1), ('can', 1), ('my', 1)]\n"
     ]
    }
   ],
   "source": [
    "for user in user_msgs.keys():\n",
    "    tf = Counter()\n",
    "    for word in user_msgs[user].split():\n",
    "        tf[word] += 1\n",
    "    print tf.items()"
   ]
  }
 ],
 "metadata": {
  "kernelspec": {
   "display_name": "Python 2",
   "language": "python",
   "name": "python2"
  },
  "language_info": {
   "codemirror_mode": {
    "name": "ipython",
    "version": 2
   },
   "file_extension": ".py",
   "mimetype": "text/x-python",
   "name": "python",
   "nbconvert_exporter": "python",
   "pygments_lexer": "ipython2",
   "version": "2.7.13"
  }
 },
 "nbformat": 4,
 "nbformat_minor": 2
}
